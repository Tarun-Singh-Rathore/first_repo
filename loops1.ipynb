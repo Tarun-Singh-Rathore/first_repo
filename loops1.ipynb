{
 "cells": [
  {
   "cell_type": "code",
   "execution_count": 1,
   "metadata": {},
   "outputs": [
    {
     "name": "stdout",
     "output_type": "stream",
     "text": [
      "0\n",
      "1\n",
      "2\n",
      "3\n",
      "4\n",
      "5\n",
      "6\n",
      "7\n",
      "8\n",
      "9\n"
     ]
    }
   ],
   "source": [
    "i = 0\n",
    "while i<10:\n",
    "    print(i)\n",
    "    i+=1"
   ]
  },
  {
   "cell_type": "code",
   "execution_count": 2,
   "metadata": {},
   "outputs": [
    {
     "name": "stdout",
     "output_type": "stream",
     "text": [
      "Enter Numbers sep by ','77,88,99,44,66,55,22\n"
     ]
    }
   ],
   "source": [
    "l = input(\"Enter Numbers sep by ','\").split(',')"
   ]
  },
  {
   "cell_type": "code",
   "execution_count": 3,
   "metadata": {},
   "outputs": [
    {
     "data": {
      "text/plain": [
       "['77', '88', '99', '44', '66', '55', '22']"
      ]
     },
     "execution_count": 3,
     "metadata": {},
     "output_type": "execute_result"
    }
   ],
   "source": [
    "l"
   ]
  },
  {
   "cell_type": "code",
   "execution_count": 4,
   "metadata": {},
   "outputs": [],
   "source": [
    "int_list = []\n",
    "i = 0\n",
    "while i<len(l):\n",
    "    int_list.append(int(l[i]))\n",
    "    i+=1"
   ]
  },
  {
   "cell_type": "code",
   "execution_count": 5,
   "metadata": {},
   "outputs": [
    {
     "data": {
      "text/plain": [
       "[77, 88, 99, 44, 66, 55, 22]"
      ]
     },
     "execution_count": 5,
     "metadata": {},
     "output_type": "execute_result"
    }
   ],
   "source": [
    "int_list"
   ]
  },
  {
   "cell_type": "code",
   "execution_count": 6,
   "metadata": {},
   "outputs": [],
   "source": [
    "from random import randint"
   ]
  },
  {
   "cell_type": "code",
   "execution_count": 10,
   "metadata": {},
   "outputs": [
    {
     "data": {
      "text/plain": [
       "5"
      ]
     },
     "execution_count": 10,
     "metadata": {},
     "output_type": "execute_result"
    }
   ],
   "source": [
    "randint(1,10)"
   ]
  },
  {
   "cell_type": "code",
   "execution_count": 11,
   "metadata": {},
   "outputs": [],
   "source": [
    "l = []\n",
    "i= 0\n",
    "while i<10:\n",
    "    l.append(randint(1,100))\n",
    "    i+=1"
   ]
  },
  {
   "cell_type": "code",
   "execution_count": 12,
   "metadata": {},
   "outputs": [
    {
     "data": {
      "text/plain": [
       "[38, 98, 71, 72, 86, 77, 74, 58, 98, 37]"
      ]
     },
     "execution_count": 12,
     "metadata": {},
     "output_type": "execute_result"
    }
   ],
   "source": [
    "l"
   ]
  },
  {
   "cell_type": "code",
   "execution_count": 13,
   "metadata": {},
   "outputs": [],
   "source": [
    "i = 0\n",
    "while i<len(l):\n",
    "    if l[i] %2==0:\n",
    "        l.remove(l[i])\n",
    "    else:\n",
    "        i+=1"
   ]
  },
  {
   "cell_type": "code",
   "execution_count": 14,
   "metadata": {},
   "outputs": [
    {
     "data": {
      "text/plain": [
       "[71, 77, 37]"
      ]
     },
     "execution_count": 14,
     "metadata": {},
     "output_type": "execute_result"
    }
   ],
   "source": [
    "l"
   ]
  },
  {
   "cell_type": "code",
   "execution_count": 15,
   "metadata": {},
   "outputs": [],
   "source": [
    "l = [1,2,2,3,3,4,5,6,7,8,9,9,1,2,7,8]"
   ]
  },
  {
   "cell_type": "code",
   "execution_count": 24,
   "metadata": {},
   "outputs": [
    {
     "name": "stdout",
     "output_type": "stream",
     "text": [
      "Repeated Values -->  [1, 2, 3, 7, 8, 9]\n",
      "Non Repeated Values -->  [4, 5, 6]\n"
     ]
    }
   ],
   "source": [
    "rep = []\n",
    "norep = []\n",
    "i = 0\n",
    "while i<len(l):\n",
    "    if l.count(l[i])==1:\n",
    "        norep.append(l[i])\n",
    "    else:\n",
    "        rep.append(l[i])\n",
    "    i+=1\n",
    "rep = list(set(rep))\n",
    "print(\"Repeated Values --> \",rep)\n",
    "print(\"Non Repeated Values --> \",norep)"
   ]
  },
  {
   "cell_type": "code",
   "execution_count": 18,
   "metadata": {},
   "outputs": [
    {
     "data": {
      "text/plain": [
       "[4, 5, 6]"
      ]
     },
     "execution_count": 18,
     "metadata": {},
     "output_type": "execute_result"
    }
   ],
   "source": [
    "norep"
   ]
  },
  {
   "cell_type": "code",
   "execution_count": 20,
   "metadata": {},
   "outputs": [],
   "source": [
    "rep.sort()"
   ]
  },
  {
   "cell_type": "code",
   "execution_count": 21,
   "metadata": {},
   "outputs": [
    {
     "data": {
      "text/plain": [
       "[1, 1, 2, 2, 2, 3, 3, 7, 7, 8, 8, 9, 9]"
      ]
     },
     "execution_count": 21,
     "metadata": {},
     "output_type": "execute_result"
    }
   ],
   "source": [
    "rep\n"
   ]
  },
  {
   "cell_type": "code",
   "execution_count": 22,
   "metadata": {},
   "outputs": [
    {
     "data": {
      "text/plain": [
       "{1, 2, 3, 7, 8, 9}"
      ]
     },
     "execution_count": 22,
     "metadata": {},
     "output_type": "execute_result"
    }
   ],
   "source": [
    "set(rep)"
   ]
  },
  {
   "cell_type": "code",
   "execution_count": 25,
   "metadata": {},
   "outputs": [],
   "source": [
    "l = (123,456)"
   ]
  },
  {
   "cell_type": "code",
   "execution_count": 28,
   "metadata": {},
   "outputs": [],
   "source": [
    "l = [1,2,3,4,5,6,7,8,9]"
   ]
  },
  {
   "cell_type": "code",
   "execution_count": 29,
   "metadata": {},
   "outputs": [],
   "source": [
    "ll = l.copy()"
   ]
  },
  {
   "cell_type": "code",
   "execution_count": 31,
   "metadata": {},
   "outputs": [],
   "source": [
    "z = zip(ll,l)"
   ]
  },
  {
   "cell_type": "code",
   "execution_count": 32,
   "metadata": {},
   "outputs": [
    {
     "data": {
      "text/plain": [
       "[(1, 1), (2, 2), (3, 3), (4, 4), (5, 5), (6, 6), (7, 7), (8, 8), (9, 9)]"
      ]
     },
     "execution_count": 32,
     "metadata": {},
     "output_type": "execute_result"
    }
   ],
   "source": [
    "list(z)"
   ]
  },
  {
   "cell_type": "code",
   "execution_count": 6,
   "metadata": {},
   "outputs": [],
   "source": [
    "from random import choice"
   ]
  },
  {
   "cell_type": "code",
   "execution_count": 34,
   "metadata": {},
   "outputs": [],
   "source": [
    "l = \"RPS\""
   ]
  },
  {
   "cell_type": "code",
   "execution_count": 39,
   "metadata": {},
   "outputs": [
    {
     "data": {
      "text/plain": [
       "'P'"
      ]
     },
     "execution_count": 39,
     "metadata": {},
     "output_type": "execute_result"
    }
   ],
   "source": [
    "choice(l)"
   ]
  },
  {
   "cell_type": "code",
   "execution_count": 7,
   "metadata": {},
   "outputs": [
    {
     "name": "stdout",
     "output_type": "stream",
     "text": [
      "Press Any Key To Start  ->k\n",
      "Enter R|P|S  -> r\n",
      "Loading........Draw\n",
      "Computer's Choice -->  r\n",
      "Press Any Key To Start  ->j\n",
      "Enter R|P|S  -> p\n",
      "Loading........Draw\n",
      "Computer's Choice -->  p\n",
      "Press Any Key To Start  ->\n"
     ]
    }
   ],
   "source": [
    "while input(\"Press Any Key To Start  ->\"):\n",
    "    comp = choice(\"rps\")\n",
    "    play = input(\"Enter R|P|S  -> \").strip().lower()\n",
    "    print(\"Loading\",end=\"\")\n",
    "    i = 0\n",
    "    while i<8:\n",
    "        sleep(0.6)\n",
    "        print(\".\",end=\"\")\n",
    "        i+=1\n",
    "    if comp == play:\n",
    "        print(\"Draw\")\n",
    "        print(\"Computer's Choice --> \",comp)\n",
    "    elif play==\"r\" and comp ==\"s\" or play==\"p\" and comp==\"r\" or play==\"s\" and comp==\"p\":\n",
    "        print(\"Player Wins\")\n",
    "        print(\"Computer's Choice --> \",comp)\n",
    "    else:\n",
    "        print(\"Computer Wins\")\n",
    "        print(\"Computer's Choice --> \",comp)"
   ]
  },
  {
   "cell_type": "code",
   "execution_count": 4,
   "metadata": {},
   "outputs": [
    {
     "name": "stdout",
     "output_type": "stream",
     "text": [
      "Loading........"
     ]
    }
   ],
   "source": [
    "print(\"Loading\",end=\"\")\n",
    "i = 0\n",
    "while i<8:\n",
    "    sleep(0.6)\n",
    "    print(\".\",end=\"\")\n",
    "    i+=1"
   ]
  },
  {
   "cell_type": "code",
   "execution_count": 1,
   "metadata": {},
   "outputs": [],
   "source": [
    "from time import sleep"
   ]
  },
  {
   "cell_type": "code",
   "execution_count": 10,
   "metadata": {},
   "outputs": [
    {
     "name": "stdout",
     "output_type": "stream",
     "text": [
      "hello\tbye\n"
     ]
    }
   ],
   "source": [
    "print(\"hello\",end=\"\\t\")\n",
    "sleep(2)\n",
    "print(\"bye\")"
   ]
  },
  {
   "cell_type": "code",
   "execution_count": 8,
   "metadata": {},
   "outputs": [
    {
     "name": "stdout",
     "output_type": "stream",
     "text": [
      "0\n",
      "1\n",
      "2\n",
      "3\n",
      "4\n",
      "5\n",
      "6\n",
      "7\n",
      "8\n",
      "9\n",
      "The End\n"
     ]
    }
   ],
   "source": [
    "i = 0\n",
    "while i<10:\n",
    "    print(i)\n",
    "    i+=1\n",
    "else:\n",
    "    print(\"The End\")"
   ]
  },
  {
   "cell_type": "code",
   "execution_count": 9,
   "metadata": {},
   "outputs": [
    {
     "name": "stdout",
     "output_type": "stream",
     "text": [
      "The End\n"
     ]
    }
   ],
   "source": [
    "i = 0\n",
    "while i>10:\n",
    "    print(i)\n",
    "    i+=1\n",
    "else:\n",
    "    print(\"The End\")"
   ]
  },
  {
   "cell_type": "code",
   "execution_count": 10,
   "metadata": {},
   "outputs": [
    {
     "name": "stdout",
     "output_type": "stream",
     "text": [
      "0\n",
      "1\n",
      "2\n",
      "3\n",
      "4\n",
      "5\n"
     ]
    }
   ],
   "source": [
    "i = 0\n",
    "while i<10:\n",
    "    print(i)\n",
    "    if i==5:\n",
    "        break\n",
    "    i+=1"
   ]
  },
  {
   "cell_type": "code",
   "execution_count": 12,
   "metadata": {},
   "outputs": [
    {
     "name": "stdout",
     "output_type": "stream",
     "text": [
      "0\n",
      "1\n",
      "2\n",
      "0\n",
      "1\n",
      "2\n",
      "0\n",
      "0\n",
      "1\n",
      "2\n"
     ]
    }
   ],
   "source": [
    "i = 0\n",
    "while i<4:\n",
    "    j = 0\n",
    "    while j<3:\n",
    "        print(j)\n",
    "        if i ==2:\n",
    "            break\n",
    "        j+=1\n",
    "    i+=1"
   ]
  },
  {
   "cell_type": "code",
   "execution_count": 13,
   "metadata": {},
   "outputs": [
    {
     "name": "stdout",
     "output_type": "stream",
     "text": [
      "0\n",
      "1\n",
      "2\n",
      "3\n",
      "4\n",
      "5\n"
     ]
    }
   ],
   "source": [
    "i = 0\n",
    "while i<10:\n",
    "    print(i)\n",
    "    if i==5:\n",
    "        break\n",
    "    i+=1\n",
    "else:\n",
    "    print(\"done\")"
   ]
  },
  {
   "cell_type": "code",
   "execution_count": null,
   "metadata": {},
   "outputs": [],
   "source": [
    "i = 0\n",
    "while i<10:\n",
    "    print(i)\n",
    "    if i==5:\n",
    "        continue\n",
    "    i+=1"
   ]
  },
  {
   "cell_type": "code",
   "execution_count": 2,
   "metadata": {},
   "outputs": [],
   "source": [
    "from random import randint"
   ]
  },
  {
   "cell_type": "code",
   "execution_count": 3,
   "metadata": {},
   "outputs": [],
   "source": [
    "randint?"
   ]
  },
  {
   "cell_type": "code",
   "execution_count": 5,
   "metadata": {},
   "outputs": [],
   "source": [
    "import random"
   ]
  },
  {
   "cell_type": "code",
   "execution_count": 15,
   "metadata": {},
   "outputs": [],
   "source": [
    "l = [randint(1,100)for var in range(10)]"
   ]
  },
  {
   "cell_type": "code",
   "execution_count": 16,
   "metadata": {},
   "outputs": [
    {
     "data": {
      "text/plain": [
       "[97, 6, 68, 20, 85, 83, 11, 81, 75, 23]"
      ]
     },
     "execution_count": 16,
     "metadata": {},
     "output_type": "execute_result"
    }
   ],
   "source": [
    "l"
   ]
  },
  {
   "cell_type": "code",
   "execution_count": 17,
   "metadata": {},
   "outputs": [],
   "source": [
    "i = 0\n",
    "while i<len(l):\n",
    "    if l[i]%2==0:\n",
    "        l.remove(l[i])\n",
    "        continue\n",
    "    i+=1"
   ]
  },
  {
   "cell_type": "code",
   "execution_count": 18,
   "metadata": {},
   "outputs": [
    {
     "data": {
      "text/plain": [
       "[97, 85, 83, 11, 81, 75, 23]"
      ]
     },
     "execution_count": 18,
     "metadata": {},
     "output_type": "execute_result"
    }
   ],
   "source": [
    "l"
   ]
  },
  {
   "cell_type": "code",
   "execution_count": null,
   "metadata": {},
   "outputs": [],
   "source": [
    "i = 0\n",
    "while i<len(l):\n",
    "    if l[i]%2==0:\n",
    "        l.remove(l[i])\n",
    "    else:\n",
    "        i+=1"
   ]
  },
  {
   "cell_type": "code",
   "execution_count": 20,
   "metadata": {},
   "outputs": [
    {
     "name": "stdout",
     "output_type": "stream",
     "text": [
      "Press Any Key To Start -->k\n",
      "Enter Your Name -->manish\n",
      "Manish you have only 5 Chance\n",
      "Enter a number in range 1|100 --> 50\n",
      "Loading........\n",
      "Think Bigger\n",
      "Manish you have only 4 Chance\n",
      "Enter a number in range 1|100 --> 75\n",
      "Loading........\n",
      "Think Bigger\n",
      "Manish you have only 3 Chance\n",
      "Enter a number in range 1|100 --> 95\n",
      "Loading........\n",
      "Think Bigger\n",
      "Manish you have only 2 Chance\n",
      "Enter a number in range 1|100 --> 98\n",
      "Loading........\n",
      "!!!Manish Wins!!!\n",
      "Computer's Choice --> 98\n",
      "Press Any Key To Start -->k\n",
      "Enter Your Name -->tarun\n",
      "Tarun you have only 5 Chance\n",
      "Enter a number in range 1|100 --> 50\n",
      "Loading........\n",
      "Think Lower\n",
      "Tarun you have only 4 Chance\n",
      "Enter a number in range 1|100 --> 25\n",
      "Loading........\n",
      "Think Lower\n",
      "Tarun you have only 3 Chance\n",
      "Enter a number in range 1|100 --> 10\n",
      "Loading........\n",
      "Think Bigger\n",
      "Tarun you have only 2 Chance\n",
      "Enter a number in range 1|100 --> 17\n",
      "Loading........\n",
      "!!!Tarun Wins!!!\n",
      "Computer's Choice --> 17\n",
      "Press Any Key To Start -->\n"
     ]
    }
   ],
   "source": [
    "from time import sleep\n",
    "from random import randint\n",
    "while input(\"Press Any Key To Start -->\"):\n",
    "    comp = randint(1,100)\n",
    "    name = input(\"Enter Your Name -->\").strip().title()\n",
    "    chance = 5\n",
    "    while chance>0:\n",
    "        print(f\"{name} you have only {chance} Chance\")\n",
    "        play = int(input(\"Enter a number in range 1|100 --> \").strip())\n",
    "        print(\"Loading\",end=\"\")\n",
    "        i = 0\n",
    "        while i<8:\n",
    "            sleep(0.6)\n",
    "            print(\".\",end=\"\")\n",
    "            i+=1\n",
    "        print()\n",
    "        if play==comp:\n",
    "            print(f\"!!!{name} Wins!!!\")\n",
    "            print(\"Computer's Choice -->\",comp)\n",
    "            break\n",
    "        elif play>comp and play<101:\n",
    "            print(\"Think Lower\")\n",
    "        elif play<comp and play<101:\n",
    "            print(\"Think Bigger\")\n",
    "        else:\n",
    "            print(\"Wrong Input\")\n",
    "        chance-=1\n",
    "    else:\n",
    "        print(\"!!!Computer Wins!!!\")\n",
    "        print(\"Computer's Choice --> \",comp)"
   ]
  },
  {
   "cell_type": "code",
   "execution_count": null,
   "metadata": {},
   "outputs": [],
   "source": []
  }
 ],
 "metadata": {
  "kernelspec": {
   "display_name": "Python 3",
   "language": "python",
   "name": "python3"
  },
  "language_info": {
   "codemirror_mode": {
    "name": "ipython",
    "version": 3
   },
   "file_extension": ".py",
   "mimetype": "text/x-python",
   "name": "python",
   "nbconvert_exporter": "python",
   "pygments_lexer": "ipython3",
   "version": "3.7.0"
  }
 },
 "nbformat": 4,
 "nbformat_minor": 2
}
